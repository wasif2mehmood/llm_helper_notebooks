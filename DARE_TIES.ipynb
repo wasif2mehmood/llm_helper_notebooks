{
  "cells": [
    {
      "cell_type": "markdown",
      "metadata": {
        "id": "uJAGelEKTutH"
      },
      "source": [
        "**Yaml Config**"
      ]
    },
    {
      "cell_type": "code",
      "execution_count": null,
      "metadata": {
        "id": "CB-4o7LwG5pD"
      },
      "outputs": [],
      "source": [
        "MODEL_NAME = \"medllama-3-8b-merged\"\n",
        "yaml_config = \"\"\"\n",
        "models:\n",
        "  - model: model1 base model\n",
        "    # No parameters necessary for base model\n",
        "  - model: model2\n",
        "    parameters:\n",
        "      density: 0.5\n",
        "      weight: 0.5\n",
        "  - model: model3\n",
        "    parameters:\n",
        "      density: 0.5\n",
        "      weight: 0.5\n",
        "merge_method: dare_ties\n",
        "base_model: meta-llama/Meta-Llama-3-8B-Instruct\n",
        "dtype: bfloat16\n",
        "\n",
        "\"\"\""
      ]
    },
    {
      "cell_type": "markdown",
      "metadata": {
        "id": "7z2izHGdTz-W"
      },
      "source": [
        "**Run Merge**"
      ]
    },
    {
      "cell_type": "code",
      "execution_count": null,
      "metadata": {
        "colab": {
          "base_uri": "https://localhost:8080/"
        },
        "id": "d5mYzDo1q96y",
        "outputId": "56cfc477-b88a-4954-867e-c683e40538cd"
      },
      "outputs": [
        {
          "name": "stdout",
          "output_type": "stream",
          "text": [
            "Cloning into 'mergekit'...\n",
            "remote: Enumerating objects: 1991, done.\u001b[K\n",
            "remote: Counting objects: 100% (105/105), done.\u001b[K\n",
            "remote: Compressing objects: 100% (68/68), done.\u001b[K\n",
            "remote: Total 1991 (delta 63), reused 63 (delta 37), pack-reused 1886\u001b[K\n",
            "Receiving objects: 100% (1991/1991), 608.65 KiB | 1.98 MiB/s, done.\n",
            "Resolving deltas: 100% (1362/1362), done.\n",
            "mergekit-yaml config.yaml merge --copy-tokenizer --cuda --low-cpu-memory\n"
          ]
        }
      ],
      "source": [
        "\n",
        "\n",
        "runtime = \"GPU\"\n",
        "\n",
        "branch = \"main\"\n",
        "trust_remote_code = False\n",
        "\n",
        "# Install mergekit\n",
        "if branch == \"main\":\n",
        "    !git clone https://github.com/arcee-ai/mergekit.git\n",
        "    !cd mergekit && pip install -qqq -e . --progress-bar off\n",
        "elif branch == \"mixtral\":\n",
        "    !git clone -b mixtral https://github.com/arcee-ai/mergekit.git\n",
        "    !cd mergekit && pip install -qqq -e . --progress-bar off\n",
        "    !pip install -qqq -U transformers --progress-bar off\n",
        "\n",
        "# Save config as yaml file\n",
        "with open('config.yaml', 'w', encoding=\"utf-8\") as f:\n",
        "    f.write(yaml_config)\n",
        "\n",
        "# Base CLI\n",
        "if branch == \"main\":\n",
        "    cli = \"mergekit-yaml config.yaml merge --copy-tokenizer\"\n",
        "elif branch == \"mixtral\":\n",
        "    cli = \"mergekit-moe config.yaml merge --copy-tokenizer\"\n",
        "\n",
        "# Additional arguments\n",
        "if runtime == \"CPU\":\n",
        "    cli += \" --allow-crimes --out-shard-size 1B --lazy-unpickle\"\n",
        "elif runtime == \"GPU\":\n",
        "    cli += \" --cuda --low-cpu-memory\"\n",
        "if trust_remote_code:\n",
        "    cli += \" --trust-remote-code\"\n",
        "\n",
        "print(cli)\n",
        "\n",
        "# Merge models\n",
        "!{cli}"
      ]
    }
  ],
  "metadata": {
    "colab": {
      "provenance": []
    },
    "kernelspec": {
      "display_name": "Python 3 (ipykernel)",
      "language": "python",
      "name": "python3"
    },
    "language_info": {
      "codemirror_mode": {
        "name": "ipython",
        "version": 3
      },
      "file_extension": ".py",
      "mimetype": "text/x-python",
      "name": "python",
      "nbconvert_exporter": "python",
      "pygments_lexer": "ipython3",
      "version": "3.10.12"
    }
  },
  "nbformat": 4,
  "nbformat_minor": 0
}
