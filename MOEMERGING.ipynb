{
 "cells": [
  {
   "cell_type": "code",
   "execution_count": null,
   "metadata": {
    "id": "oNZ3Uo01WnNT"
   },
   "outputs": [],
   "source": [
    "yaml_config = \"\"\"\n",
    "base_model: mlabonne/AlphaMonarch-7B\n",
    "experts:\n",
    "  - source_model: mlabonne/AlphaMonarch-7B\n",
    "    positive_prompts:\n",
    "    - \"chat\"\n",
    "    - \"assistant\"\n",
    "    - \"tell me\"\n",
    "    - \"explain\"\n",
    "    - \"I want\"\n",
    "  - source_model: beowolx/CodeNinja-1.0-OpenChat-7B\n",
    "    positive_prompts:\n",
    "    - \"code\"\n",
    "    - \"python\"\n",
    "    - \"javascript\"\n",
    "    - \"programming\"\n",
    "    - \"algorithm\"\n",
    "  - source_model: SanjiWatsuki/Kunoichi-DPO-v2-7B\n",
    "    positive_prompts:\n",
    "    - \"storywriting\"\n",
    "    - \"write\"\n",
    "    - \"scene\"\n",
    "    - \"story\"\n",
    "    - \"character\"\n",
    "  - source_model: mlabonne/NeuralDaredevil-7B\n",
    "    positive_prompts:\n",
    "    - \"reason\"\n",
    "    - \"math\"\n",
    "    - \"mathematics\"\n",
    "    - \"solve\"\n",
    "    - \"count\"\n",
    "\"\"\""
   ]
  },
  {
   "cell_type": "code",
   "execution_count": null,
   "metadata": {
    "colab": {
     "base_uri": "https://localhost:8080/"
    },
    "executionInfo": {
     "elapsed": 34695,
     "status": "ok",
     "timestamp": 1717492200613,
     "user": {
      "displayName": "Wasif Mehmood",
      "userId": "12083044002541848681"
     },
     "user_tz": -300
    },
    "id": "MaT5W_raXJg8",
    "outputId": "01748a6e-38ba-4a36-b244-754447714f1c"
   },
   "outputs": [],
   "source": [
    "runtime = \"GPU\"\n",
    "branch = \"mixtral\"\n",
    "trust_remote_code = True\n",
    "\n",
    "# Install mergekit\n",
    "if branch == \"mixtral\":\n",
    "    !git clone -b mixtral https://github.com/arcee-ai/mergekit.git\n",
    "    !cd mergekit && pip install -qqq -e . --progress-bar off\n",
    "    !pip install -qqq -U transformers --progress-bar off\n",
    "\n",
    "# Save config as yaml file\n",
    "with open('config.yaml', 'w', encoding=\"utf-8\") as f:\n",
    "    f.write(yaml_config)\n",
    "\n",
    "# Base CLI\n",
    "if branch == \"mixtral\":\n",
    "    cli = \"mergekit-moe config.yaml merge --copy-tokenizer\"\n",
    "\n",
    "# Additional arguments\n",
    "if runtime == \"CPU\":\n",
    "    cli += \" --allow-crimes --out-shard-size 1B --lazy-unpickle\"\n",
    "elif runtime == \"GPU\":\n",
    "    cli += \" --cuda --low-cpu-memory\"\n",
    "if trust_remote_code:\n",
    "    cli += \" --trust-remote-code\"\n",
    "\n",
    "print(cli)\n",
    "\n",
    "# Merge models\n",
    "!{cli}"
   ]
  }
 ],
 "metadata": {
  "colab": {
   "provenance": []
  },
  "kernelspec": {
   "display_name": "Python 3",
   "name": "python3"
  },
  "language_info": {
   "name": "python"
  }
 },
 "nbformat": 4,
 "nbformat_minor": 0
}
