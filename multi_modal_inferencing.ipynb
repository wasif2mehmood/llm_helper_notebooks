{
 "cells": [
  {
   "cell_type": "code",
   "execution_count": null,
   "id": "0727acf9-7c96-4132-8f2b-3e66fb70055c",
   "metadata": {
    "scrolled": true
   },
   "outputs": [],
   "source": [
    "!pip install lmdeploy\n",
    "\n",
    "# install other packages that InternLM-XComposer-2.5 needs\n",
    "!pip install decord"
   ]
  },
  {
   "cell_type": "code",
   "execution_count": null,
   "id": "1d2de2ef-2692-43e8-8698-e0d2a8be2348",
   "metadata": {},
   "outputs": [],
   "source": [
    "from lmdeploy import pipeline, GenerationConfig\n",
    "from lmdeploy.vl.constants import IMAGE_TOKEN\n",
    "from lmdeploy.vl import load_image\n",
    "\n",
    "query = f'Image1 {IMAGE_TOKEN}; Image2 {IMAGE_TOKEN}; Image3 {IMAGE_TOKEN}; I want to buy a car from the three given cars, analyze their advantages and weaknesses one by one'\n",
    "\n",
    "urls = ['https://raw.githubusercontent.com/InternLM/InternLM-XComposer/main/examples/cars1.jpg',\n",
    "        'https://raw.githubusercontent.com/InternLM/InternLM-XComposer/main/examples/cars2.jpg',\n",
    "        'https://raw.githubusercontent.com/InternLM/InternLM-XComposer/main/examples/cars3.jpg']\n",
    "images = [load_image(url) for url in urls]\n",
    "\n",
    "pipe = pipeline('internlm/internlm-xcomposer2d5-7b', log_level='INFO')\n",
    "output = pipe((query, images), gen_config=GenerationConfig(top_k=0, top_p=0.8, random_seed=89247526689433939))"
   ]
  },
  {
   "cell_type": "code",
   "execution_count": null,
   "id": "30e48fb7-de90-4383-9f85-210ec4dc56bf",
   "metadata": {},
   "outputs": [],
   "source": [
    "from lmdeploy import pipeline\n",
    "from lmdeploy.vl import load_image\n",
    "pipe = pipeline('internlm/internlm-xcomposer2d5-7b')\n",
    "image = load_image('Screenshot 2024-07-19 151521.png')\n",
    "response = pipe(('describe this image', image))\n",
    "print(response.text)"
   ]
  },
  {
   "cell_type": "code",
   "execution_count": null,
   "id": "a2f963fd-7585-4d70-930e-4c626f22643b",
   "metadata": {},
   "outputs": [],
   "source": []
  }
 ],
 "metadata": {
  "kernelspec": {
   "display_name": "Python 3 (ipykernel)",
   "language": "python",
   "name": "python3"
  },
  "language_info": {
   "codemirror_mode": {
    "name": "ipython",
    "version": 3
   },
   "file_extension": ".py",
   "mimetype": "text/x-python",
   "name": "python",
   "nbconvert_exporter": "python",
   "pygments_lexer": "ipython3",
   "version": "3.10.12"
  }
 },
 "nbformat": 4,
 "nbformat_minor": 5
}
