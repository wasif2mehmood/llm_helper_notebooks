{
 "cells": [
  {
   "cell_type": "code",
   "execution_count": null,
   "id": "b1afe27e-a1eb-4c77-ad44-eeb7f2ff77d5",
   "metadata": {},
   "outputs": [],
   "source": [
    "!curl -s https://packagecloud.io/install/repositories/github/git-lfs/script.deb.sh | bash\n",
    "!apt-get install git-lfs"
   ]
  },
  {
   "cell_type": "code",
   "execution_count": null,
   "id": "306d1fbb-5cff-4f53-8b46-971e34f0690b",
   "metadata": {},
   "outputs": [],
   "source": [
    "!git lfs install"
   ]
  },
  {
   "cell_type": "code",
   "execution_count": null,
   "id": "c386ff81-d8d8-45ff-96d9-f1b3032e0f22",
   "metadata": {},
   "outputs": [],
   "source": [
    "!pip install cmake"
   ]
  },
  {
   "cell_type": "code",
   "execution_count": null,
   "id": "b73af9f1-bc6b-4da2-9792-ee897abe5e53",
   "metadata": {
    "scrolled": true
   },
   "outputs": [],
   "source": [
    "!CMAKE_ARGS=\"-DGGML_CUDA=on\" pip install llama-cpp-python"
   ]
  },
  {
   "cell_type": "code",
   "execution_count": null,
   "id": "70bdd3dc-db22-476a-a9bf-90a5b4c53d54",
   "metadata": {},
   "outputs": [],
   "source": [
    "# from huggingface_hub import hf_hub_download\n",
    "from llama_cpp import Llama"
   ]
  },
  {
   "cell_type": "code",
   "execution_count": null,
   "id": "47f096c8-018b-4dcc-8bfd-5af1aa421f9e",
   "metadata": {},
   "outputs": [],
   "source": [
    "from huggingface_hub import snapshot_download\n",
    "snapshot_download(repo_id=\"\", repo_type=\"model\", local_dir=\"./gguf\" )"
   ]
  },
  {
   "cell_type": "code",
   "execution_count": null,
   "id": "6cb2c777-beda-4fcb-828d-239a86628673",
   "metadata": {},
   "outputs": [],
   "source": [
    "llm_gpu = Llama(model_path=\"\",n_gpu_layers=-1)"
   ]
  },
  {
   "cell_type": "code",
   "execution_count": null,
   "id": "78b7cc88-e126-4b0b-9d9d-721f1bdf84a3",
   "metadata": {},
   "outputs": [],
   "source": [
    "llm = Llama(model_path=\"./gguf/\")"
   ]
  },
  {
   "cell_type": "code",
   "execution_count": null,
   "id": "b5cdba3e-4100-4576-a317-4eda3bc925d4",
   "metadata": {},
   "outputs": [],
   "source": [
    "llm_gpu.create_chat_completion(\n",
    "      messages = [\n",
    "          {\"role\": \"system\", \"content\": \"You are an AI assistant.\"},\n",
    "          {\n",
    "              \"role\": \"user\",\n",
    "              \"content\": \"What is Machine Learning?\"\n",
    "          }\n",
    "      ]\n",
    ")"
   ]
  },
  {
   "cell_type": "code",
   "execution_count": null,
   "id": "664e4ad8-9917-49e1-97df-46338e6aacbf",
   "metadata": {},
   "outputs": [],
   "source": [
    "llm_gpu.create_chat_completion(\n",
    "      messages = [\n",
    "          {\"role\": \"system\", \"content\": \"You are an AI assistant.\"},\n",
    "          {\n",
    "              \"role\": \"user\",\n",
    "              \"content\": \"Explain the side effects of paracetamol.\"\n",
    "          }\n",
    "      ]\n",
    ")"
   ]
  },
  {
   "cell_type": "code",
   "execution_count": null,
   "id": "ce9a21f6-45cb-441d-88f6-d96a08808a34",
   "metadata": {},
   "outputs": [],
   "source": [
    "llm.create_chat_completion(\n",
    "      messages = [\n",
    "          {\"role\": \"system\", \"content\": \"You are an AI assistant.\"},\n",
    "          {\n",
    "              \"role\": \"user\",\n",
    "              \"content\": \"Explain the side effects of paracetamol.\"\n",
    "          }\n",
    "      ]\n",
    ")"
   ]
  }
 ],
 "metadata": {
  "kernelspec": {
   "display_name": "Python 3 (ipykernel)",
   "language": "python",
   "name": "python3"
  },
  "language_info": {
   "codemirror_mode": {
    "name": "ipython",
    "version": 3
   },
   "file_extension": ".py",
   "mimetype": "text/x-python",
   "name": "python",
   "nbconvert_exporter": "python",
   "pygments_lexer": "ipython3",
   "version": "3.10.12"
  }
 },
 "nbformat": 4,
 "nbformat_minor": 5
}
