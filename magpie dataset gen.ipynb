{
 "cells": [
  {
   "cell_type": "markdown",
   "metadata": {
    "id": "j0dZnh8hvosf"
   },
   "source": [
    "## Magpie Toy Example"
   ]
  },
  {
   "cell_type": "code",
   "execution_count": null,
   "metadata": {},
   "outputs": [],
   "source": [
    "!git clone https://github.com/magpie-align/magpie.git\n",
    "%cd magpie"
   ]
  },
  {
   "cell_type": "code",
   "execution_count": null,
   "metadata": {
    "scrolled": true
   },
   "outputs": [],
   "source": [
    "!pip install -r requirements.txt\n"
   ]
  },
  {
   "cell_type": "code",
   "execution_count": null,
   "metadata": {},
   "outputs": [],
   "source": [
    "from huggingface_hub import notebook_login\n",
    "\n",
    "notebook_login()"
   ]
  },
  {
   "cell_type": "code",
   "execution_count": null,
   "metadata": {
    "colab": {
     "referenced_widgets": [
      "848f65bd3c1243fea1e91865f48489dd"
     ]
    },
    "id": "qrTIppbUvosh",
    "outputId": "1d852b0c-f0cc-433e-868a-6d66c35c6d0a"
   },
   "outputs": [],
   "source": [
    "import transformers\n",
    "import torch\n",
    "import json\n",
    "from transformers import AutoTokenizer\n",
    "from fastchat.model import get_conversation_template\n",
    "\n",
    "model_id = \"meta-llama/Meta-Llama-3-8B-Instruct\"\n",
    "tokenizer = AutoTokenizer.from_pretrained(model_id, add_special_tokens=True)\n",
    "\n",
    "pipeline = transformers.pipeline(\n",
    "    \"text-generation\",\n",
    "    model=model_id,\n",
    "    model_kwargs={\"torch_dtype\": torch.bfloat16},\n",
    "    device=\"cuda:0\",\n",
    ")"
   ]
  },
  {
   "cell_type": "markdown",
   "metadata": {
    "id": "Qbebiw_Wvosi"
   },
   "source": [
    "#### Let's prepare the left-side template"
   ]
  },
  {
   "cell_type": "code",
   "execution_count": null,
   "metadata": {
    "id": "jJUPzIIQvosi",
    "outputId": "16a39bd9-0264-4a99-d84c-2222e6329ad4"
   },
   "outputs": [],
   "source": [
    "with open(\"configs/model_configs.json\", \"r\") as f:\n",
    "    model_configs = json.load(f)\n",
    "    model_config = model_configs[model_id]\n",
    "\n",
    "# Prompt for extracting instructions from Llama-3-8B-Instruct\n",
    "pre_query_template = model_config[\"pre_query_template\"]\n",
    "print(pre_query_template)"
   ]
  },
  {
   "cell_type": "markdown",
   "metadata": {
    "id": "cqFQg6m-vosi"
   },
   "source": [
    "#### Step 1: Extracting Instructions"
   ]
  },
  {
   "cell_type": "code",
   "execution_count": null,
   "metadata": {
    "id": "CbvlQ0Bjvosj",
    "outputId": "6a0cc9d6-8946-4a5a-a9f1-6bec7c70fd89"
   },
   "outputs": [],
   "source": [
    "terminators = [\n",
    "    tokenizer.eos_token_id,\n",
    "    tokenizer.convert_tokens_to_ids(\"<|eot_id|>\"),\n",
    "]\n",
    "\n",
    "instruction = pipeline(\n",
    "    pre_query_template,\n",
    "    max_new_tokens=2048,\n",
    "    eos_token_id=terminators,\n",
    "    do_sample=True,\n",
    "    temperature=1,\n",
    "    top_p=1,\n",
    ")\n",
    "\n",
    "sanitized_instruction = instruction[0]['generated_text'][len(pre_query_template):].split(\"\\n\")[0]\n",
    "print(f\"Extracted Instruction: {sanitized_instruction}\")"
   ]
  },
  {
   "cell_type": "markdown",
   "metadata": {
    "id": "3ylcY8kOvosj"
   },
   "source": [
    "#### Step 2: Generating Responses"
   ]
  },
  {
   "cell_type": "code",
   "execution_count": null,
   "metadata": {
    "id": "Z4l_zRPMvosj",
    "outputId": "7f4fb7c1-6d9a-4a3a-f018-99c25c224100"
   },
   "outputs": [],
   "source": [
    "conv = get_conversation_template(\"llama-3\")\n",
    "print(conv) # Make sure the conversation template is correct with name='llama-3' !!!\n",
    "conv.append_message(conv.roles[0], sanitized_instruction)\n",
    "conv.append_message(conv.roles[1], None)\n",
    "prompt = conv.get_prompt()\n",
    "\n",
    "response = pipeline(\n",
    "    prompt,\n",
    "    max_new_tokens=2048,\n",
    "    eos_token_id=terminators,\n",
    "    do_sample=True,\n",
    "    temperature=1,\n",
    "    top_p=1,\n",
    ")"
   ]
  },
  {
   "cell_type": "markdown",
   "metadata": {
    "id": "3FW1M5AFvosj"
   },
   "source": [
    "### We have successfully created an instruction-response pair!"
   ]
  },
  {
   "cell_type": "code",
   "execution_count": null,
   "metadata": {
    "id": "o5yD5sHLvosj",
    "outputId": "32fb1c0b-ee9c-4e39-edf9-92ed93e68b73"
   },
   "outputs": [],
   "source": [
    "print(f\"User's message: {sanitized_instruction}\")\n",
    "print(f\"Assitant's response: {response[0]['generated_text'][len(prompt):]}\")"
   ]
  },
  {
   "cell_type": "markdown",
   "metadata": {},
   "source": [
    "# For Whole Dataset generation"
   ]
  },
  {
   "cell_type": "code",
   "execution_count": null,
   "metadata": {},
   "outputs": [],
   "source": [
    "%cd scripts\n",
    "!bash magpie.sh"
   ]
  },
  {
   "cell_type": "code",
   "execution_count": null,
   "metadata": {},
   "outputs": [],
   "source": []
  }
 ],
 "metadata": {
  "colab": {
   "provenance": []
  },
  "kernelspec": {
   "display_name": "Python 3 (ipykernel)",
   "language": "python",
   "name": "python3"
  },
  "language_info": {
   "codemirror_mode": {
    "name": "ipython",
    "version": 3
   },
   "file_extension": ".py",
   "mimetype": "text/x-python",
   "name": "python",
   "nbconvert_exporter": "python",
   "pygments_lexer": "ipython3",
   "version": "3.10.12"
  }
 },
 "nbformat": 4,
 "nbformat_minor": 4
}
