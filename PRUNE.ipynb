{
  "cells": [
    {
      "cell_type": "code",
      "execution_count": null,
      "id": "00e3a4d7-af8c-4d46-b20c-ca30e5af9ce4",
      "metadata": {
        "colab": {
          "base_uri": "https://localhost:8080/"
        },
        "id": "00e3a4d7-af8c-4d46-b20c-ca30e5af9ce4",
        "outputId": "1757181a-c43c-4725-ffe6-0cf1e76f394a"
      },
      "outputs": [],
      "source": [
        "!git clone https://github.com/arcee-ai/PruneMe.git"
      ]
    },
    {
      "cell_type": "code",
      "execution_count": null,
      "id": "3badbff8-8086-4ff9-a25e-f9e2fd73bcfe",
      "metadata": {
        "id": "3badbff8-8086-4ff9-a25e-f9e2fd73bcfe"
      },
      "outputs": [],
      "source": [
        "!pip install -q protobuf"
      ]
    },
    {
      "cell_type": "code",
      "execution_count": null,
      "id": "bc954cd5-04f6-464b-a0dd-176d5998ba7b",
      "metadata": {
        "colab": {
          "base_uri": "https://localhost:8080/"
        },
        "id": "bc954cd5-04f6-464b-a0dd-176d5998ba7b",
        "outputId": "7f9c1721-f0ba-4297-914c-a050df70a9fc"
      },
      "outputs": [],
      "source": [
        "%cd PruneMe"
      ]
    },
    {
      "cell_type": "code",
      "execution_count": null,
      "id": "hLLLIO5zqx_s",
      "metadata": {
        "colab": {
          "base_uri": "https://localhost:8080/"
        },
        "id": "hLLLIO5zqx_s",
        "outputId": "ddaf4181-9dab-4907-d661-64f2c563a5fb"
      },
      "outputs": [],
      "source": [
        "!pip install -r requirements.txt\n",
        "!pip install \"huggingface_hub[cli]\"\n",
        "!pip install -q sentencepiece"
      ]
    },
    {
      "cell_type": "code",
      "execution_count": null,
      "id": "0tGc4VZ2pSwr",
      "metadata": {
        "colab": {
          "base_uri": "https://localhost:8080/"
        },
        "id": "0tGc4VZ2pSwr",
        "outputId": "0ab652d9-87f2-4216-e731-bc38a7172238"
      },
      "outputs": [],
      "source": [
        "!huggingface-cli login --token \"\""
      ]
    },
    {
      "cell_type": "code",
      "execution_count": null,
      "id": "RIfBo7qxq3Gv",
      "metadata": {
        "id": "RIfBo7qxq3Gv"
      },
      "outputs": [],
      "source": [
        "import tqdm"
      ]
    },
    {
      "cell_type": "code",
      "execution_count": null,
      "id": "4c3d82c4-6677-49b1-a8a7-c109667491e8",
      "metadata": {
        "colab": {
          "base_uri": "https://localhost:8080/"
        },
        "id": "4c3d82c4-6677-49b1-a8a7-c109667491e8",
        "outputId": "3117c520-ceea-40db-eaa1-b5458278bff1"
      },
      "outputs": [],
      "source": [
        "%cd ./compute_block_similarity"
      ]
    },
    {
      "cell_type": "code",
      "execution_count": null,
      "id": "d026c657-346a-4fb7-9f46-3827c96b3777",
      "metadata": {
        "colab": {
          "base_uri": "https://localhost:8080/"
        },
        "id": "d026c657-346a-4fb7-9f46-3827c96b3777",
        "outputId": "eea6f331-f840-4792-ff3a-6d6c25dc1b45"
      },
      "outputs": [],
      "source": [
        "!./run_layer_similarity.sh"
      ]
    },
    {
      "cell_type": "code",
      "execution_count": null,
      "id": "387b36f0-3f16-4ecf-989e-2c6001e78f20",
      "metadata": {
        "id": "387b36f0-3f16-4ecf-989e-2c6001e78f20"
      },
      "outputs": [],
      "source": [
        "#22-30 minimum\n",
        "# merge 0-21 and 30-32"
      ]
    },
    {
      "cell_type": "markdown",
      "id": "RKE0sO6orPPH",
      "metadata": {
        "id": "RKE0sO6orPPH"
      },
      "source": [
        "**Create the New Model With The Mergekit**"
      ]
    },
    {
      "cell_type": "code",
      "execution_count": null,
      "id": "wSYMhfSNyVqA",
      "metadata": {
        "colab": {
          "base_uri": "https://localhost:8080/"
        },
        "id": "wSYMhfSNyVqA",
        "outputId": "d3ec0f39-81d6-4d22-f17b-9ab5eaf70035"
      },
      "outputs": [],
      "source": [
        "%cd .."
      ]
    },
    {
      "cell_type": "code",
      "execution_count": null,
      "id": "C3TQgfyZyRyZ",
      "metadata": {
        "colab": {
          "base_uri": "https://localhost:8080/"
        },
        "id": "C3TQgfyZyRyZ",
        "outputId": "c4749290-7466-459e-af7e-a49c522da3e7"
      },
      "outputs": [],
      "source": [
        "%ls"
      ]
    },
    {
      "cell_type": "code",
      "execution_count": null,
      "id": "5bbb866f-795a-4fe7-bce7-aab89b3c409e",
      "metadata": {
        "colab": {
          "base_uri": "https://localhost:8080/"
        },
        "id": "5bbb866f-795a-4fe7-bce7-aab89b3c409e",
        "outputId": "6ad83761-2a1c-4037-c338-a70cacb8d641"
      },
      "outputs": [],
      "source": [
        "%cd PruneMe/slice_with_mergekit"
      ]
    },
    {
      "cell_type": "code",
      "execution_count": null,
      "id": "083e4b7b-68c8-4720-8479-c8db12c9064c",
      "metadata": {
        "colab": {
          "base_uri": "https://localhost:8080/"
        },
        "id": "083e4b7b-68c8-4720-8479-c8db12c9064c",
        "outputId": "90861619-1cb5-4665-ae6b-10adea656b52"
      },
      "outputs": [],
      "source": [
        "!git clone https://github.com/cg123/mergekit.git\n",
        "%cd mergekit\n",
        "!pip install -e .\n",
        "%cd .."
      ]
    },
    {
      "cell_type": "code",
      "execution_count": null,
      "id": "30297ad9-1683-4318-98fc-2e21dc97c600",
      "metadata": {
        "colab": {
          "base_uri": "https://localhost:8080/"
        },
        "id": "30297ad9-1683-4318-98fc-2e21dc97c600",
        "outputId": "48dcc8ac-c1d9-4dae-b7ec-644ec1870aa7"
      },
      "outputs": [],
      "source": [
        "%ls"
      ]
    },
    {
      "cell_type": "code",
      "execution_count": null,
      "id": "394717d7-fc1f-408e-be5f-03b3e21b7dbe",
      "metadata": {
        "colab": {
          "base_uri": "https://localhost:8080/"
        },
        "id": "394717d7-fc1f-408e-be5f-03b3e21b7dbe",
        "outputId": "674f5eef-6677-4f0b-8482-70144044627b"
      },
      "outputs": [],
      "source": [
        "!python ./merge_me.py"
      ]
    }
  ],
  "metadata": {
    "accelerator": "GPU",
    "colab": {
      "gpuType": "T4",
      "provenance": []
    },
    "kernelspec": {
      "display_name": "Python 3",
      "name": "python3"
    },
    "language_info": {
      "codemirror_mode": {
        "name": "ipython",
        "version": 3
      },
      "file_extension": ".py",
      "mimetype": "text/x-python",
      "name": "python",
      "nbconvert_exporter": "python",
      "pygments_lexer": "ipython3",
      "version": "3.10.12"
    }
  },
  "nbformat": 4,
  "nbformat_minor": 5
}
