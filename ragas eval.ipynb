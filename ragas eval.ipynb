{
 "cells": [
  {
   "cell_type": "code",
   "execution_count": null,
   "id": "f93b0a22-0a9e-4682-b2d2-7dfaece8b1cb",
   "metadata": {
    "scrolled": true
   },
   "outputs": [],
   "source": [
    "!pip install transformers accelerate datasets ragas"
   ]
  },
  {
   "cell_type": "code",
   "execution_count": null,
   "id": "332477fd-2ba1-4088-a36a-57ca8eb8df54",
   "metadata": {},
   "outputs": [],
   "source": [
    "!huggingface-cli login --token ''"
   ]
  },
  {
   "cell_type": "code",
   "execution_count": null,
   "id": "8ec553f0-24ab-4af2-a639-51b2080ad12f",
   "metadata": {
    "scrolled": true
   },
   "outputs": [],
   "source": [
    "import torch\n",
    "from transformers import AutoModelForCausalLM, AutoTokenizer, pipeline\n",
    "import pandas as pd\n",
    "from datasets import load_dataset\n",
    "\n",
    "from datasets import DatasetDict, Dataset\n",
    "\n",
    "# Set random seed for reproducibility\n",
    "torch.random.manual_seed(0)\n",
    "\n",
    "# Load the model and tokenizer\n",
    "# change model her and just run the code \n",
    "model = AutoModelForCausalLM.from_pretrained(\n",
    "    \"wasifis/cited_phi3_mini_instruct\",\n",
    "    device_map=\"cuda\",\n",
    "    torch_dtype=\"auto\",\n",
    "    trust_remote_code=True,\n",
    ")\n",
    "tokenizer = AutoTokenizer.from_pretrained(\"microsoft/Phi-3-mini-128k-instruct\")\n",
    "\n",
    "# Initialize the pipeline\n",
    "pipe = pipeline(\n",
    "    \"text-generation\",\n",
    "    model=model,\n",
    "    tokenizer=tokenizer,\n",
    ")\n",
    "\n",
    "# Load the dataset\n",
    "dataset_dict = load_dataset(\"wasifis/rag-test-gt\")\n",
    "\n",
    "# Convert to pandas DataFrame\n",
    "df = pd.DataFrame(dataset_dict[\"default\"])\n",
    "\n",
    "# Prepare the base context\n",
    "base_context = [\n",
    "    {\"role\": \"system\", \"content\": \"You are a helpful AI assistant.\"}\n",
    "]\n",
    "\n",
    "# Function to generate response for each question with context\n",
    "def generate_response(question, context):\n",
    "    messages = base_context + [{\"role\": \"user\", \"content\": context}, {\"role\": \"user\", \"content\": question}]\n",
    "    generation_args = {\n",
    "        \"max_new_tokens\": 500,\n",
    "        \"return_full_text\": False,\n",
    "        \"temperature\": 0.0,\n",
    "        \"do_sample\": False,\n",
    "    }\n",
    "    output = pipe(messages, **generation_args)\n",
    "    return output[0]['generated_text']\n",
    "\n",
    "# Apply the function to each question and context in the DataFrame\n",
    "df['answer'] = df.apply(lambda row: generate_response(row['question'], row['contexts']), axis=1)\n",
    "\n",
    "# Save the updated DataFrame to a new CSV file\n",
    "df.to_csv('generated_testset_with_answers.csv', index=False)"
   ]
  },
  {
   "cell_type": "code",
   "execution_count": null,
   "id": "354cf5ab-fe49-4f79-b45d-0cbcf8e59671",
   "metadata": {
    "scrolled": true
   },
   "outputs": [],
   "source": [
    "import pandas as pd\n",
    "from datasets import Dataset\n",
    "import os\n",
    "from ragas import evaluate\n",
    "from ragas.metrics import faithfulness, answer_correctness\n",
    "\n",
    "# Set the OpenAI API key\n",
    "os.environ[\"OPENAI_API_KEY\"] = \"\"\n",
    "\n",
    "# Load the CSV file into a DataFrame\n",
    "csv_file_path = 'generated_testset_with_answers.csv'\n",
    "df = pd.read_csv(csv_file_path)\n",
    "\n",
    "# Inspect the DataFrame to understand its structure\n",
    "print(df.dtypes)\n",
    "\n",
    "# Ensure that the 'contexts' column is of type list of strings\n",
    "if 'contexts' in df.columns:\n",
    "    df['contexts'] = df['contexts'].apply(lambda x: eval(x) if isinstance(x, str) and x.startswith('[') and x.endswith(']') else [x])\n",
    "\n",
    "# Ensure that the 'ground_truths' column is of type list of strings\n",
    "if 'ground_truths' in df.columns:\n",
    "    df['ground_truths'] = df['ground_truths'].apply(lambda x: eval(x) if isinstance(x, str) and x.startswith('[') and x.endswith(']') else [x])\n",
    "\n",
    "# Convert the DataFrame to a dictionary\n",
    "data_samples = df.to_dict(orient='list')\n",
    "\n",
    "# Create a Dataset from the dictionary\n",
    "dataset = Dataset.from_dict(data_samples)\n",
    "\n",
    "# Define the metrics\n",
    "metrics = [faithfulness, answer_correctness]\n",
    "\n",
    "# Evaluate the dataset using the specified metrics\n",
    "score = evaluate(dataset, metrics=metrics)\n",
    "\n",
    "# Convert the score to a pandas DataFrame and print it\n",
    "print(score.to_pandas())\n"
   ]
  },
  {
   "cell_type": "code",
   "execution_count": null,
   "id": "699c6b2b-9438-4451-91e7-8c8ba3d61ed7",
   "metadata": {},
   "outputs": [],
   "source": []
  }
 ],
 "metadata": {
  "kernelspec": {
   "display_name": "Python 3 (ipykernel)",
   "language": "python",
   "name": "python3"
  },
  "language_info": {
   "codemirror_mode": {
    "name": "ipython",
    "version": 3
   },
   "file_extension": ".py",
   "mimetype": "text/x-python",
   "name": "python",
   "nbconvert_exporter": "python",
   "pygments_lexer": "ipython3",
   "version": "3.10.12"
  }
 },
 "nbformat": 4,
 "nbformat_minor": 5
}
