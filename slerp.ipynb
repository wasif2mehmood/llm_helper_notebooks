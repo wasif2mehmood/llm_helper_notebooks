{
 "cells": [
  {
   "cell_type": "markdown",
   "metadata": {
    "id": "K8fqqHH4JYV6"
   },
   "source": [
    "# DARE-TIES\n",
    "\n",
    "Best model merging with Dare tie"
   ]
  },
  {
   "cell_type": "markdown",
   "metadata": {
    "id": "uJAGelEKTutH"
   },
   "source": [
    "**Yaml Config**"
   ]
  },
  {
   "cell_type": "code",
   "execution_count": null,
   "metadata": {
    "id": "CB-4o7LwG5pD"
   },
   "outputs": [],
   "source": [
    "MODEL_NAME = \"wasifis/Falcon-10B-merged-v2-slerp\"\n",
    "yaml_config = \"\"\"\n",
    "slices:\n",
    "  - sources:\n",
    "      - model: tiiuae/Falcon3-10B-Instruct\n",
    "        layer_range: [0, 40]\n",
    "      - model: wasifis/Falcon-10B-v1\n",
    "        layer_range: [0, 40]\n",
    "merge_method: slerp\n",
    "base_model: tiiuae/Falcon3-10B-Instruct\n",
    "parameters:\n",
    "  t:\n",
    "    - filter: self_attn\n",
    "      value: [0, 0.5, 0.3, 0.7, 1]\n",
    "    - filter: mlp\n",
    "      value: [1, 0.5, 0.7, 0.3, 0]\n",
    "    - value: 0.5\n",
    "dtype: bfloat16\n",
    "\"\"\""
   ]
  },
  {
   "cell_type": "code",
   "execution_count": null,
   "metadata": {
    "colab": {
     "base_uri": "https://localhost:8080/"
    },
    "id": "d5mYzDo1q96y",
    "outputId": "56cfc477-b88a-4954-867e-c683e40538cd"
   },
   "outputs": [],
   "source": [
    "\n",
    "\n",
    "runtime = \"GPU\"\n",
    "\n",
    "branch = \"main\"\n",
    "trust_remote_code = True\n",
    "\n",
    "# Install mergekit\n",
    "# if branch == \"main\":\n",
    "#     !git clone https://github.com/arcee-ai/mergekit.git\n",
    "#     !cd mergekit && pip install -e . --progress-bar off\n",
    "# elif branch == \"mixtral\":\n",
    "#     !git clone -b mixtral https://github.com/arcee-ai/mergekit.git\n",
    "#     !cd mergekit && pip install -qqq -e . --progress-bar off\n",
    "#     !pip install -qqq -U transformers --progress-bar off\n",
    "\n",
    "# Save config as yaml file\n",
    "with open('config.yaml', 'w', encoding=\"utf-8\") as f:\n",
    "    f.write(yaml_config)\n",
    "\n",
    "# Base CLI\n",
    "if branch == \"main\":\n",
    "    cli = \"mergekit-yaml config.yaml merge --copy-tokenizer\"\n",
    "elif branch == \"mixtral\":\n",
    "    cli = \"mergekit-moe config.yaml merge --copy-tokenizer\"\n",
    "\n",
    "# Additional arguments\n",
    "if runtime == \"CPU\":\n",
    "    cli += \" --allow-crimes --out-shard-size 1B --lazy-unpickle\"\n",
    "elif runtime == \"GPU\":\n",
    "    cli += \" --cuda --low-cpu-memory\"\n",
    "if trust_remote_code:\n",
    "    cli += \" --trust-remote-code\"\n",
    "\n",
    "print(cli)\n",
    "\n",
    "# Merge models\n",
    "!{cli}"
   ]
  },
  {
   "cell_type": "code",
   "execution_count": null,
   "metadata": {},
   "outputs": [],
   "source": []
  }
 ],
 "metadata": {
  "colab": {
   "provenance": []
  },
  "kernelspec": {
   "display_name": "Python 3 (ipykernel)",
   "language": "python",
   "name": "python3"
  },
  "language_info": {
   "codemirror_mode": {
    "name": "ipython",
    "version": 3
   },
   "file_extension": ".py",
   "mimetype": "text/x-python",
   "name": "python",
   "nbconvert_exporter": "python",
   "pygments_lexer": "ipython3",
   "version": "3.10.12"
  }
 },
 "nbformat": 4,
 "nbformat_minor": 4
}
